{
 "cells": [
  {
   "cell_type": "markdown",
   "metadata": {},
   "source": [
    "# SUDOKU SOLVER using Character Recognition"
   ]
  },
  {
   "cell_type": "markdown",
   "metadata": {},
   "source": [
    "### Imports"
   ]
  },
  {
   "cell_type": "code",
   "execution_count": null,
   "metadata": {},
   "outputs": [],
   "source": [
    "import cv2\n",
    "from tensorflow.keras.models import load_model\n",
    "from collections import Counter \n",
    "from copy import deepcopy\n",
    "from PIL import Image\n",
    "import pytesseract\n",
    "import numpy as np\n",
    "import matplotlib.pyplot as plt\n",
    "%matplotlib inline"
   ]
  },
  {
   "cell_type": "code",
   "execution_count": null,
   "metadata": {},
   "outputs": [],
   "source": [
    "#show image in RGB\n",
    "def showImg(img, title = ''):\n",
    "    plt.figure(figsize = (8,6));\n",
    "    plt.title(title)\n",
    "    plt.imshow(cv2.cvtColor(img,cv2.COLOR_BGR2RGB))"
   ]
  },
  {
   "cell_type": "markdown",
   "metadata": {},
   "source": [
    "### Load a sudoku picture"
   ]
  },
  {
   "cell_type": "code",
   "execution_count": null,
   "metadata": {
    "scrolled": true
   },
   "outputs": [],
   "source": [
    "path = \"sudoku/sudoku2.png\"\n",
    "sudoku = cv2.imread(path)\n",
    "showImg(sudoku)"
   ]
  },
  {
   "cell_type": "markdown",
   "metadata": {},
   "source": [
    "### Extract numbers from the picture"
   ]
  },
  {
   "cell_type": "code",
   "execution_count": null,
   "metadata": {},
   "outputs": [],
   "source": [
    "# create a copy of original picture\n",
    "sudoku_color = np.copy(sudoku)\n",
    "\n",
    "# remove colors channel\n",
    "gray_sudoku = cv2.cvtColor(sudoku,cv2.COLOR_BGR2GRAY)\n",
    "\n",
    "# apply threshold to distinguish lines better\n",
    "ret, thresh = cv2.threshold(gray_sudoku,200,255,0)\n",
    "\n",
    "# define edges\n",
    "edges = cv2.Canny(thresh,127,255, apertureSize=3)\n",
    "\n",
    "# get lines from all the edges\n",
    "lines = cv2.HoughLines(edges,1,np.pi / 180,200)\n",
    "\n",
    "# 2 lists to store coordinates of lines\n",
    "X, Y = [], []\n",
    "\n",
    "for line in lines:\n",
    "    for rho,theta in line:\n",
    "        a = np.cos(theta)\n",
    "        b = np.sin(theta)\n",
    "        x0 = a*rho\n",
    "        y0 = b*rho\n",
    "        x1 = int(x0 + 1000*(-b))\n",
    "        y1 = int(y0 + 1000*(a))\n",
    "        x2 = int(x0 - 1000*(-b))\n",
    "        y2 = int(y0 - 1000*(a))\n",
    "        X.append(int(x0))\n",
    "        Y.append(int(y0))\n",
    "\n",
    "        # draw a line\n",
    "        cv2.line(sudoku_color,(x1,y1),(x2,y2),(0,255,0),2)    \n",
    "    \n",
    "showImg(sudoku_color)"
   ]
  },
  {
   "cell_type": "code",
   "execution_count": null,
   "metadata": {},
   "outputs": [],
   "source": [
    "def distance(x1, x2):\n",
    "    \"\"\"\n",
    "    x1, x2 - 2 points in one dimension\n",
    "    returns the distance between the points\n",
    "    \"\"\"\n",
    "    return abs(x1-x2)\n",
    "\n",
    "def reduce_lines(Z, num_lines=10):\n",
    "    \"\"\"\n",
    "    Z - a list of coordinates of the lines\n",
    "    num_lines - number of vertical/horizontal lines in sudoku, \n",
    "    default is 10 for 9 by 9 standard sudoku\n",
    "    returns reduced to requiered number of elements list\n",
    "    \"\"\"\n",
    "    Z = sorted(list(set(Z)))\n",
    "    while len(Z) > num_lines:\n",
    "        element_to_remove = Z[0]\n",
    "        smallest_distance = distance(Z[0], Z[1])\n",
    "        for i in range(len(Z))[1:]:\n",
    "            if distance(Z[i], Z[i-1]) < smallest_distance:\n",
    "                element_to_remove = Z[i]\n",
    "                smallest_distance = distance(Z[i], Z[i-1])\n",
    "        Z.remove(element_to_remove)\n",
    "    return Z"
   ]
  },
  {
   "cell_type": "code",
   "execution_count": null,
   "metadata": {},
   "outputs": [],
   "source": [
    "# remove all the extra found lines\n",
    "X = reduce_lines(X)\n",
    "Y = reduce_lines(Y)"
   ]
  },
  {
   "cell_type": "code",
   "execution_count": null,
   "metadata": {},
   "outputs": [],
   "source": [
    "# save all the separated pics to list\n",
    "separated_pics = []\n",
    "for y in range(len(Y) -1): \n",
    "    row = []\n",
    "    for x in range(len(X)-1):\n",
    "        pic = sudoku[Y[y]:Y[y+1], X[x]:X[x+1]]\n",
    "        row.append(pic)\n",
    "    separated_pics.append(row)"
   ]
  },
  {
   "cell_type": "code",
   "execution_count": null,
   "metadata": {},
   "outputs": [],
   "source": [
    "# shape of the \"matrix\" of the pics\n",
    "len(separated_pics), len(separated_pics[0])"
   ]
  },
  {
   "cell_type": "code",
   "execution_count": null,
   "metadata": {},
   "outputs": [],
   "source": [
    "showImg(separated_pics[0][0])"
   ]
  },
  {
   "cell_type": "code",
   "execution_count": null,
   "metadata": {},
   "outputs": [],
   "source": [
    "# a template to keep the results\n",
    "sudoku_numbers = np.ones(shape=(len(Y)-1, len(X)-1))\n",
    "sudoku_numbers.shape"
   ]
  },
  {
   "cell_type": "code",
   "execution_count": null,
   "metadata": {},
   "outputs": [],
   "source": [
    "# list to keep arrays of the results\n",
    "solutions = []"
   ]
  },
  {
   "cell_type": "markdown",
   "metadata": {},
   "source": [
    "## Character Recognition"
   ]
  },
  {
   "cell_type": "markdown",
   "metadata": {},
   "source": [
    "### Method 1: using model trained with MNIST handwritten digits dataset"
   ]
  },
  {
   "cell_type": "code",
   "execution_count": null,
   "metadata": {},
   "outputs": [],
   "source": [
    "# load the model\n",
    "number_recognizer_MNIST = load_model('MNIST_digits_recognition.h5', compile=False)"
   ]
  },
  {
   "cell_type": "code",
   "execution_count": null,
   "metadata": {},
   "outputs": [],
   "source": [
    "def inverse_resize(img):\n",
    "    \"\"\"\n",
    "    inverses and resizes a pic to 28*28 size,\n",
    "    cleans from noize\n",
    "    returns clean small nice pic\n",
    "    \"\"\"\n",
    "    # remove colors channel\n",
    "    gray_pic = cv2.cvtColor(img,cv2.COLOR_BGR2GRAY)\n",
    "    \n",
    "    threshold = 117\n",
    "    max_value= 255\n",
    "    \n",
    "    # inverse to black\n",
    "    inverse = 255 - gray_pic\n",
    "    ret1, thresh1 = cv2.threshold(inverse, threshold, max_value,\n",
    "                              cv2.THRESH_BINARY)\n",
    "\n",
    "    resize = cv2.resize(thresh1,(28,28),interpolation = cv2.INTER_CUBIC)\n",
    "    # clean remains of lines\n",
    "    for i in range(28):\n",
    "        for j in range(5):\n",
    "            resize[i][j] = 0 # top of the image\n",
    "    for i in range(5):\n",
    "        for j in range(28):\n",
    "            resize[i][j] = 0 # left side\n",
    "  \n",
    "    return resize"
   ]
  },
  {
   "cell_type": "code",
   "execution_count": null,
   "metadata": {},
   "outputs": [],
   "source": [
    "showImg(inverse_resize(separated_pics[0][0]))"
   ]
  },
  {
   "cell_type": "code",
   "execution_count": null,
   "metadata": {},
   "outputs": [],
   "source": [
    "# clean, resize and inverse all the pics to use them with the model\n",
    "pics_copy_1 = deepcopy(separated_pics)\n",
    "for i in range(len(Y)-1):\n",
    "    for j in range(len(X)-1):\n",
    "        pics_copy_1[i][j] = inverse_resize(pics_copy_1[i][j])"
   ]
  },
  {
   "cell_type": "code",
   "execution_count": null,
   "metadata": {},
   "outputs": [],
   "source": [
    "# use the template to save the results\n",
    "matching_numbers = sudoku_numbers.copy()\n",
    "for i in range(len(Y)-1):\n",
    "    for j in range(len(X)-1):\n",
    "        # mark empty cells as 0\n",
    "        if np.sum((pics_copy_1[i][j]) == 255) < 10:\n",
    "            matching_numbers[i][j] = 0"
   ]
  },
  {
   "cell_type": "code",
   "execution_count": null,
   "metadata": {},
   "outputs": [],
   "source": [
    "# empty cells = 0, not empty = 1\n",
    "matching_numbers"
   ]
  },
  {
   "cell_type": "code",
   "execution_count": null,
   "metadata": {},
   "outputs": [],
   "source": [
    "showImg(sudoku)"
   ]
  },
  {
   "cell_type": "code",
   "execution_count": null,
   "metadata": {},
   "outputs": [],
   "source": [
    "# predict numbers with the model\n",
    "for i in range(len(Y)-1):\n",
    "    for j in range(len(X)-1):\n",
    "        if matching_numbers[i][j] == 1:\n",
    "            prediction = number_recognizer_MNIST.predict([[pics_copy_1[i][j].reshape(28,28,1)]])\n",
    "            matching_numbers[i][j] = np.argmax(prediction)\n",
    "matching_numbers"
   ]
  },
  {
   "cell_type": "code",
   "execution_count": null,
   "metadata": {},
   "outputs": [],
   "source": [
    "# keep the results\n",
    "solutions.append(matching_numbers)"
   ]
  },
  {
   "cell_type": "markdown",
   "metadata": {},
   "source": [
    "### Method 2: using model trained with printable characters"
   ]
  },
  {
   "cell_type": "code",
   "execution_count": null,
   "metadata": {},
   "outputs": [],
   "source": [
    "# load the model\n",
    "number_recognizer_2 = load_model('Printed_digits_recognition.h5', compile=False)"
   ]
  },
  {
   "cell_type": "code",
   "execution_count": null,
   "metadata": {},
   "outputs": [],
   "source": [
    "# use the template to save the results\n",
    "matching_numbers = sudoku_numbers.copy()"
   ]
  },
  {
   "cell_type": "code",
   "execution_count": null,
   "metadata": {},
   "outputs": [],
   "source": [
    "# predict numbers with the model\n",
    "for i in range(len(Y)-1):\n",
    "    for j in range(len(X)-1):\n",
    "        if matching_numbers[i][j] == 1:\n",
    "            # resize the image\n",
    "            resized_pic = cv2.resize(separated_pics[i][j],(28,28),interpolation = cv2.INTER_CUBIC)\n",
    "            # clean remains of lines\n",
    "            for k in range(28):\n",
    "                for l in range(5):\n",
    "                    for m in range(3):\n",
    "                        resized_pic[k][l][m] = 255 # top\n",
    "            for k in range(5):\n",
    "                for l in range(28):\n",
    "                    for m in range(3): # left side\n",
    "                        resized_pic[k][l][m] = 255\n",
    "            prediction = number_recognizer_2.predict([[resized_pic.reshape(28,28,3)]])\n",
    "            matching_numbers[i][j] = np.argmax(prediction)\n",
    "matching_numbers"
   ]
  },
  {
   "cell_type": "code",
   "execution_count": null,
   "metadata": {},
   "outputs": [],
   "source": [
    "showImg(sudoku)"
   ]
  },
  {
   "cell_type": "code",
   "execution_count": null,
   "metadata": {},
   "outputs": [],
   "source": [
    "# keep the results\n",
    "solutions.append(matching_numbers)"
   ]
  },
  {
   "cell_type": "markdown",
   "metadata": {},
   "source": [
    "This model was trained with small dataset, so it also does not always provide perfect recognition."
   ]
  },
  {
   "cell_type": "markdown",
   "metadata": {},
   "source": [
    "### Method 3: using Python-tesseract"
   ]
  },
  {
   "cell_type": "code",
   "execution_count": null,
   "metadata": {},
   "outputs": [],
   "source": [
    "# use the template to save the results\n",
    "matching_numbers = sudoku_numbers.copy()"
   ]
  },
  {
   "cell_type": "code",
   "execution_count": null,
   "metadata": {},
   "outputs": [],
   "source": [
    "matching_numbers = sudoku_numbers.copy()\n",
    "for i in range(len(Y)-1):\n",
    "    for j in range(len(X)-1):\n",
    "        if sudoku_numbers[i][j] == 1:\n",
    "            # recognise a number \n",
    "            result = pytesseract.image_to_string(separated_pics[i][j], config='--psm 7 -c tessedit_char_whitelist=0123456789.%')\n",
    "            try:\n",
    "                if len(result) > 1:\n",
    "                    result = result[-1]\n",
    "                matching_numbers[i][j] = int(result)\n",
    "            # in case of an empty cell   \n",
    "            except:\n",
    "                matching_numbers[i][j] = 0\n",
    "            \n",
    "matching_numbers"
   ]
  },
  {
   "cell_type": "code",
   "execution_count": null,
   "metadata": {},
   "outputs": [],
   "source": [
    "showImg(sudoku)"
   ]
  },
  {
   "cell_type": "code",
   "execution_count": null,
   "metadata": {},
   "outputs": [],
   "source": [
    "# keep the results\n",
    "solutions.append(matching_numbers)"
   ]
  },
  {
   "cell_type": "markdown",
   "metadata": {},
   "source": [
    "### Combine the results"
   ]
  },
  {
   "cell_type": "markdown",
   "metadata": {},
   "source": [
    "Since each model might make a mistake, the solution is a combination of the predictions of the 3 models."
   ]
  },
  {
   "cell_type": "code",
   "execution_count": null,
   "metadata": {},
   "outputs": [],
   "source": [
    "# available solutions\n",
    "len(solutions)"
   ]
  },
  {
   "cell_type": "code",
   "execution_count": null,
   "metadata": {},
   "outputs": [],
   "source": [
    "def most_frequent(_list):\n",
    "    \"\"\"\n",
    "    returns the most frequent element in the list\n",
    "    if there are 3 different elements returns the last one as the most reliable\n",
    "    \"\"\"\n",
    "    if len(set(_list)) == 3:\n",
    "        result = _list[2]\n",
    "    else:\n",
    "        occurence_count = Counter(_list)\n",
    "        result = occurence_count.most_common(1)[0][0]\n",
    "    return result"
   ]
  },
  {
   "cell_type": "code",
   "execution_count": null,
   "metadata": {},
   "outputs": [],
   "source": [
    "# use the template to save the results\n",
    "matching_numbers = sudoku_numbers.copy()"
   ]
  },
  {
   "cell_type": "code",
   "execution_count": null,
   "metadata": {},
   "outputs": [],
   "source": [
    "for i in range(len(Y)-1):\n",
    "    for j in range(len(X)-1):\n",
    "        solutions_i = []\n",
    "        for k in range(len(solutions)):\n",
    "            solutions_i.append(solutions[k][i][j])\n",
    "        matching_numbers[i][j] = most_frequent(solutions_i)\n",
    "matching_numbers"
   ]
  },
  {
   "cell_type": "code",
   "execution_count": null,
   "metadata": {},
   "outputs": [],
   "source": [
    "showImg(sudoku)"
   ]
  },
  {
   "cell_type": "markdown",
   "metadata": {},
   "source": [
    "### Solving sudoku"
   ]
  },
  {
   "cell_type": "code",
   "execution_count": null,
   "metadata": {},
   "outputs": [],
   "source": [
    "results = matching_numbers.copy()\n"
   ]
  },
  {
   "cell_type": "code",
   "execution_count": null,
   "metadata": {},
   "outputs": [],
   "source": [
    "# sudoku solver\n",
    "def findNextCellToFill(grid, i, j):\n",
    "        for x in range(i,9):\n",
    "                for y in range(j,9):\n",
    "                        if grid[x][y] == 0:\n",
    "                                return x,y\n",
    "        for x in range(0,9):\n",
    "                for y in range(0,9):\n",
    "                        if grid[x][y] == 0:\n",
    "                                return x,y\n",
    "        return -1,-1\n",
    "\n",
    "def isValid(grid, i, j, e):\n",
    "        rowOk = all([e != grid[i][x] for x in range(9)])\n",
    "        if rowOk:\n",
    "                columnOk = all([e != grid[x][j] for x in range(9)])\n",
    "                if columnOk:\n",
    "                        # finding the top left x,y co-ordinates of the section containing the i,j cell\n",
    "                        secTopX, secTopY = 3 *(i//3), 3 *(j//3) #floored quotient should be used here. \n",
    "                        for x in range(secTopX, secTopX+3):\n",
    "                                for y in range(secTopY, secTopY+3):\n",
    "                                        if grid[x][y] == e:\n",
    "                                                return False\n",
    "                        return True\n",
    "        return False\n",
    "\n",
    "def solveSudoku(grid, i=0, j=0):\n",
    "        i,j = findNextCellToFill(grid, i, j)\n",
    "        if i == -1:\n",
    "                return True\n",
    "        for e in range(1,10):\n",
    "                if isValid(grid,i,j,e):\n",
    "                        grid[i][j] = e\n",
    "                        if solveSudoku(grid, i, j):\n",
    "                                return True\n",
    "                        # undo the current cell for backtracking\n",
    "                        grid[i][j] = 0\n",
    "        return False"
   ]
  },
  {
   "cell_type": "code",
   "execution_count": null,
   "metadata": {},
   "outputs": [],
   "source": [
    "solveSudoku(results)"
   ]
  },
  {
   "cell_type": "code",
   "execution_count": null,
   "metadata": {},
   "outputs": [],
   "source": [
    "results"
   ]
  },
  {
   "cell_type": "markdown",
   "metadata": {},
   "source": [
    "### Draw the solution"
   ]
  },
  {
   "cell_type": "code",
   "execution_count": null,
   "metadata": {},
   "outputs": [],
   "source": [
    "results_written = sudoku.copy()\n",
    "font = cv2.FONT_HERSHEY_PLAIN\n",
    "green = (0, 255, 0)\n",
    "thickness = 3\n",
    "size = abs(X[0] - X[1]) // 14 # formula for the best size"
   ]
  },
  {
   "cell_type": "code",
   "execution_count": null,
   "metadata": {},
   "outputs": [],
   "source": [
    "# draw numbers\n",
    "for i in range(len(Y)-1):\n",
    "    for j in range(len(X)-1):\n",
    "        if matching_numbers[i][j] == 0:\n",
    "            cv2.putText(results_written,str(int(results[i][j])),(X[j]+5, Y[i+1]), font,size, green,thickness,cv2.LINE_AA)"
   ]
  },
  {
   "cell_type": "code",
   "execution_count": null,
   "metadata": {},
   "outputs": [],
   "source": [
    "showImg(results_written)"
   ]
  },
  {
   "cell_type": "code",
   "execution_count": null,
   "metadata": {},
   "outputs": [],
   "source": []
  }
 ],
 "metadata": {
  "kernelspec": {
   "display_name": "Python 3",
   "language": "python",
   "name": "python3"
  },
  "language_info": {
   "codemirror_mode": {
    "name": "ipython",
    "version": 3
   },
   "file_extension": ".py",
   "mimetype": "text/x-python",
   "name": "python",
   "nbconvert_exporter": "python",
   "pygments_lexer": "ipython3",
   "version": "3.6.9"
  }
 },
 "nbformat": 4,
 "nbformat_minor": 2
}
